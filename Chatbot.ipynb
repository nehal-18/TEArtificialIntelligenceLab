{
 "cells": [
  {
   "cell_type": "code",
   "execution_count": 1,
   "metadata": {},
   "outputs": [],
   "source": [
    "import random\n",
    "# Some responses for the chatbot\n",
    "responses = {\n",
    "\"hi\": [\"Hello! Welcome to Amazon. How may I assist you with your order today?\",\n",
    "\"Hi there! How can I help you with your Amazon order?\"],\n",
    "\"how are you\": [\"I'm a bot, so I don't have feelings, but I'm here to assist you with your order.\"],\n",
    "\"what can you do\": [\"I can assist you with tracking your order, changing your shipping address, cancelling your order, and more. How can I help you with your order today?\"],\n",
    "\"track order\": [\"Sure, I can help you track your order. Please provide your order number or tracking ID.\", \"No problem! Please give me your order number or tracking ID, and I'll check the status for you.\"],\n",
    "\"change shipping address\": [\"I can help you change the shipping address for your order. Please provide the new address you would like it shipped to.\",\n",
    "\"Sure, let's update your shipping address. What is the new address you would like me to use?\"],\n",
    "\"cancel order\": [\"I can assist you with cancelling your order. Please provide your order number or the item you wish to cancel.\", \"Certainly! To cancel your order, please give me your order number or the name of the item you wish to cancel.\"],\n",
    "\"thank you\": [\"You're welcome! Is there anything else I can help you with?\",\"My pleasure. Let me know if there is anything else you need assistance with.\"],\n",
    "\"bye\": [\"Goodbye! Thank you for shopping with Amazon.\", \"Take care and have a great day!\"],\n",
    "\"default\": [\"I'm sorry, I didn't understand what you said regarding your order. Can you please rephrase that?\", \"I'm not sure what you mean about your order.Could you please clarify?\"],\n",
    "}\n"
   ]
  },
  {
   "cell_type": "code",
   "execution_count": 2,
   "metadata": {},
   "outputs": [],
   "source": [
    "# Function to respond to user input\n",
    "def chatbot_response(user_input):\n",
    "   if user_input.lower() in responses:\n",
    "       return random.choice(responses[user_input.lower()])\n",
    "   else:\n",
    "       return random.choice(responses[\"default\"])"
   ]
  },
  {
   "cell_type": "code",
   "execution_count": null,
   "metadata": {},
   "outputs": [],
   "source": [
    "#Chat with the user\n",
    "print(\"Hi, I'm a simple chatbot. What can I help you with today?\")\n",
    "while True:\n",
    "  user_input = input(\">\")\n",
    "  if user_input.lower() == \"bye\":\n",
    "     print(\"Goodbye!\")\n",
    "     break\n",
    "  else:\n",
    "     print(chatbot_response(user_input))\n"
   ]
  }
 ],
 "metadata": {
  "kernelspec": {
   "display_name": "Python 3",
   "language": "python",
   "name": "python3"
  },
  "language_info": {
   "codemirror_mode": {
    "name": "ipython",
    "version": 3
   },
   "file_extension": ".py",
   "mimetype": "text/x-python",
   "name": "python",
   "nbconvert_exporter": "python",
   "pygments_lexer": "ipython3",
   "version": "3.11.3"
  },
  "orig_nbformat": 4
 },
 "nbformat": 4,
 "nbformat_minor": 2
}
