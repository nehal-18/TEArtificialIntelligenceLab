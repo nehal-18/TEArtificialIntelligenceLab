{
 "cells": [
  {
   "attachments": {},
   "cell_type": "markdown",
   "id": "d0018159",
   "metadata": {},
   "source": [
    "T190434"
   ]
  },
  {
   "cell_type": "code",
   "execution_count": 1,
   "id": "0a5dfb68",
   "metadata": {},
   "outputs": [],
   "source": [
    "import pandas as pd\n",
    "import seaborn as sns\n",
    "import matplotlib.pyplot as plt\n",
    "from sklearn.preprocessing import LabelEncoder, StandardScaler\n",
    "from sklearn.model_selection import train_test_split, GridSearchCV\n",
    "from sklearn.metrics import accuracy_score, classification_report, confusion_matrix\n",
    "import warnings\n",
    "warnings.filterwarnings('ignore')\n",
    "%matplotlib inline"
   ]
  },
  {
   "attachments": {},
   "cell_type": "markdown",
   "id": "12ef0134",
   "metadata": {},
   "source": [
    "Data Exploration"
   ]
  },
  {
   "cell_type": "code",
   "execution_count": 2,
   "id": "e934bccf-7f30-4cb5-843a-b21052812b01",
   "metadata": {},
   "outputs": [],
   "source": [
    "data = pd.read_csv('Hr.csv')\n"
   ]
  },
  {
   "cell_type": "code",
   "execution_count": null,
   "id": "30679286-29ec-4253-83db-70b03ffe2eeb",
   "metadata": {},
   "outputs": [],
   "source": [
    "data.shape"
   ]
  },
  {
   "cell_type": "code",
   "execution_count": null,
   "id": "d36b573f-e12c-4607-bc95-f1d8d7c3b7c1",
   "metadata": {},
   "outputs": [],
   "source": [
    "data.columns"
   ]
  },
  {
   "cell_type": "code",
   "execution_count": null,
   "id": "462c0997-3a8d-4174-b169-221bf9b0ee71",
   "metadata": {},
   "outputs": [],
   "source": [
    "data.head()"
   ]
  },
  {
   "cell_type": "code",
   "execution_count": null,
   "id": "c8a1587f-abc0-40be-99f0-b1b9ce183bdb",
   "metadata": {},
   "outputs": [],
   "source": [
    "data.dtypes"
   ]
  },
  {
   "cell_type": "code",
   "execution_count": null,
   "id": "8f73d5c8-365e-4dd4-8005-70c6b20cd723",
   "metadata": {},
   "outputs": [],
   "source": [
    "data['MaritalStatus'].value_counts()"
   ]
  },
  {
   "cell_type": "code",
   "execution_count": null,
   "id": "b6da5915-7a60-428c-b9e0-e02cf0188bae",
   "metadata": {},
   "outputs": [],
   "source": [
    "data['EmpDepartment'].unique()"
   ]
  },
  {
   "cell_type": "code",
   "execution_count": null,
   "id": "432a0b56-4adf-4b19-b6be-9007a30281ca",
   "metadata": {},
   "outputs": [],
   "source": [
    "data.info()"
   ]
  },
  {
   "cell_type": "code",
   "execution_count": null,
   "id": "c56a6d21-97a7-4d8a-9ece-67c762213591",
   "metadata": {},
   "outputs": [],
   "source": [
    "data.describe()"
   ]
  },
  {
   "cell_type": "code",
   "execution_count": null,
   "id": "7e731772-d0ad-4360-9b43-581ba928bfe5",
   "metadata": {},
   "outputs": [],
   "source": [
    "data.isnull().any()"
   ]
  },
  {
   "cell_type": "code",
   "execution_count": null,
   "id": "9807a706-e4d8-4281-b936-d92690b91f78",
   "metadata": {},
   "outputs": [],
   "source": [
    "data.index"
   ]
  },
  {
   "attachments": {},
   "cell_type": "markdown",
   "id": "6c760b59",
   "metadata": {},
   "source": [
    "Data Visualisation"
   ]
  },
  {
   "cell_type": "code",
   "execution_count": null,
   "id": "bf64167e-0831-429e-9455-288a1ed40460",
   "metadata": {},
   "outputs": [],
   "source": [
    "dept = data.iloc[:,[5,27]].copy()\n",
    "dept"
   ]
  },
  {
   "cell_type": "code",
   "execution_count": null,
   "id": "46f520b0-acd6-4edc-8510-84eb88affa1f",
   "metadata": {},
   "outputs": [],
   "source": [
    "data['PerformanceRating'].unique()"
   ]
  },
  {
   "cell_type": "code",
   "execution_count": 14,
   "id": "a21feed3-f7ec-4789-82b7-ec4b139ca885",
   "metadata": {},
   "outputs": [],
   "source": [
    "dept_per = dept.copy()"
   ]
  },
  {
   "cell_type": "code",
   "execution_count": null,
   "id": "16993ff8-7d5d-4615-9c9e-7e8ae0d979de",
   "metadata": {},
   "outputs": [],
   "source": [
    "dept_per.groupby(by='EmpDepartment')['PerformanceRating'].mean()"
   ]
  },
  {
   "cell_type": "code",
   "execution_count": null,
   "id": "6ba12328-811a-4e1c-a08d-91e7d18d3499",
   "metadata": {},
   "outputs": [],
   "source": [
    "plt.figure(figsize=(10,4.5))\n",
    "sns.barplot(x = dept_per['EmpDepartment'],y = dept_per['PerformanceRating'])"
   ]
  },
  {
   "cell_type": "code",
   "execution_count": null,
   "id": "039488c3-11dd-4b17-b3f0-0a7d98f77f6e",
   "metadata": {},
   "outputs": [],
   "source": [
    "dept_per.groupby(by='EmpDepartment')['PerformanceRating'].value_counts()"
   ]
  },
  {
   "cell_type": "code",
   "execution_count": 18,
   "id": "41470b97",
   "metadata": {},
   "outputs": [],
   "source": [
    "department = pd.get_dummies(dept_per['EmpDepartment'])\n",
    "performance = pd.DataFrame(dept_per['PerformanceRating'])\n",
    "dept_rating = pd.concat([department,performance],axis=1)"
   ]
  },
  {
   "cell_type": "code",
   "execution_count": null,
   "id": "bff058eb",
   "metadata": {},
   "outputs": [],
   "source": [
    "plt.figure(figsize=(15,10))\n",
    "plt.subplot(2,3,1)\n",
    "sns.barplot(x=dept_rating['PerformanceRating'],y=dept_rating['Sales'])\n",
    "plt.subplot(2,3,2)\n",
    "sns.barplot(x=dept_rating['PerformanceRating'],y=dept_rating['Development'])\n",
    "plt.subplot(2,3,3)\n",
    "sns.barplot(x=dept_rating['PerformanceRating'],y=dept_rating['Research & Development'])\n",
    "plt.subplot(2,3,4)\n",
    "sns.barplot(x=dept_rating['PerformanceRating'],y=dept_rating['Human Resources'])\n",
    "plt.subplot(2,3,5)\n",
    "sns.barplot(x=dept_rating['PerformanceRating'],y=dept_rating['Finance'])\n",
    "plt.subplot(2,3,6)\n",
    "sns.barplot(x=dept_rating['PerformanceRating'],y=dept_rating['Data Science'])\n",
    "plt.show()"
   ]
  },
  {
   "attachments": {},
   "cell_type": "markdown",
   "id": "59f86531",
   "metadata": {},
   "source": [
    "Data PreProcessing"
   ]
  },
  {
   "cell_type": "code",
   "execution_count": null,
   "id": "e3ed9764",
   "metadata": {},
   "outputs": [],
   "source": [
    "enc = LabelEncoder()\n",
    "for i in (2,3,4,5,6,7,16,26):\n",
    "    data.iloc[:,i] = enc.fit_transform(data.iloc[:,i])\n",
    "data.head()"
   ]
  },
  {
   "cell_type": "code",
   "execution_count": 24,
   "id": "bd68971b",
   "metadata": {},
   "outputs": [],
   "source": [
    "data.drop(['EmpNumber'],inplace=True,axis=1)"
   ]
  },
  {
   "cell_type": "code",
   "execution_count": null,
   "id": "bcc65073",
   "metadata": {},
   "outputs": [],
   "source": [
    "data.head()"
   ]
  },
  {
   "cell_type": "code",
   "execution_count": null,
   "id": "fcd6feca",
   "metadata": {},
   "outputs": [],
   "source": [
    "y = data.PerformanceRating\n",
    "X = data.iloc[:,[4,5,9,16,20,21,22,23,24]]\n",
    "X.head()"
   ]
  },
  {
   "cell_type": "code",
   "execution_count": 27,
   "id": "23b237d5",
   "metadata": {},
   "outputs": [],
   "source": [
    "X_train, X_test, y_train, y_test = train_test_split(X,y,test_size=0.3,random_state=10)"
   ]
  },
  {
   "cell_type": "code",
   "execution_count": 28,
   "id": "fd0ac670",
   "metadata": {},
   "outputs": [
    {
     "data": {
      "text/plain": [
       "(840, 9)"
      ]
     },
     "execution_count": 28,
     "metadata": {},
     "output_type": "execute_result"
    }
   ],
   "source": [
    "X_train.shape"
   ]
  },
  {
   "cell_type": "code",
   "execution_count": null,
   "id": "d6c05a06",
   "metadata": {},
   "outputs": [],
   "source": [
    "X_test.shape"
   ]
  },
  {
   "attachments": {},
   "cell_type": "markdown",
   "id": "7cd7cca3",
   "metadata": {},
   "source": [
    "Model: Random Forest with GridSearchCV"
   ]
  },
  {
   "cell_type": "code",
   "execution_count": null,
   "id": "dd12d4fd",
   "metadata": {},
   "outputs": [],
   "source": [
    "from sklearn.ensemble import RandomForestClassifier\n",
    "classifier_rfg=RandomForestClassifier(random_state=33,n_estimators=23)\n",
    "parameters=[{'min_samples_split':[2,3,4,5],'criterion':['gini','entropy'],'min_samples_leaf': [1, 2, 3],'min_samples_split': [2, 3, 4, 5]}] \n",
    "model_gridrf=GridSearchCV(estimator=classifier_rfg, param_grid=parameters, scoring='accuracy')\n",
    "model_gridrf.fit(X_train,y_train)"
   ]
  },
  {
   "cell_type": "code",
   "execution_count": null,
   "id": "c79b8f87",
   "metadata": {},
   "outputs": [],
   "source": [
    "model_gridrf.best_params_"
   ]
  },
  {
   "cell_type": "code",
   "execution_count": 32,
   "id": "f8865da3",
   "metadata": {},
   "outputs": [],
   "source": [
    "y_predict_rf = model_gridrf.predict(X_test)"
   ]
  },
  {
   "cell_type": "code",
   "execution_count": null,
   "id": "19ccbe09",
   "metadata": {},
   "outputs": [],
   "source": [
    "print(accuracy_score(y_test,y_predict_rf))\n",
    "print(classification_report(y_test,y_predict_rf))"
   ]
  },
  {
   "cell_type": "code",
   "execution_count": null,
   "id": "184bde8b",
   "metadata": {},
   "outputs": [],
   "source": [
    "confusion_matrix(y_test,y_predict_rf)"
   ]
  }
 ],
 "metadata": {
  "kernelspec": {
   "display_name": "Python 3 (ipykernel)",
   "language": "python",
   "name": "python3"
  },
  "language_info": {
   "codemirror_mode": {
    "name": "ipython",
    "version": 3
   },
   "file_extension": ".py",
   "mimetype": "text/x-python",
   "name": "python",
   "nbconvert_exporter": "python",
   "pygments_lexer": "ipython3",
   "version": "3.11.3"
  }
 },
 "nbformat": 4,
 "nbformat_minor": 5
}
