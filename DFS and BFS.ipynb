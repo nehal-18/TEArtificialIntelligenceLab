{
 "cells": [
  {
   "cell_type": "code",
   "execution_count": null,
   "id": "49bcc12c-f0e7-4a52-a292-1c725f63b34f",
   "metadata": {},
   "outputs": [],
   "source": [
    "graph = {\n",
    "    '5' : ['3','7'],\n",
    "    '3' : ['2','4'],\n",
    "    '7' : ['8'],\n",
    "    '2' : [],\n",
    "    '4' : ['8'],\n",
    "    '8' : []\n",
    "}\n",
    "\n",
    "visited = set()\n",
    "\n",
    "def dfs(visited,graph,node):\n",
    "    if node not in visited:\n",
    "        print(node,end=\"->\")\n",
    "        visited.add(node)\n",
    "        for neighbour in graph[node]:\n",
    "            dfs(visited,graph,neighbour)\n",
    "            \n",
    "print(\"DFS\")\n",
    "dfs(visited,graph,'5')"
   ]
  },
  {
   "cell_type": "code",
   "execution_count": null,
   "id": "93e95a6b-7ec6-4a1e-a584-d52ebb4d426e",
   "metadata": {},
   "outputs": [],
   "source": [
    "visited = []\n",
    "queue = []\n",
    "\n",
    "def bfs(visited,graph,node):\n",
    "        visited.append(node)\n",
    "        queue.append(node)\n",
    "        while queue:\n",
    "            m = queue.pop(0)\n",
    "            print(m,end = \"->\")\n",
    "            for neighbour in graph[m]:\n",
    "                if neighbour not in visited:\n",
    "                    visited.append(neighbour)\n",
    "                    queue.append(neighbour)\n",
    "print(\"BFS\")\n",
    "bfs(visited,graph,'5')            "
   ]
  }
 ],
 "metadata": {
  "kernelspec": {
   "display_name": "Python 3 (ipykernel)",
   "language": "python",
   "name": "python3"
  },
  "language_info": {
   "codemirror_mode": {
    "name": "ipython",
    "version": 3
   },
   "file_extension": ".py",
   "mimetype": "text/x-python",
   "name": "python",
   "nbconvert_exporter": "python",
   "pygments_lexer": "ipython3",
   "version": "3.10.9"
  }
 },
 "nbformat": 4,
 "nbformat_minor": 5
}
