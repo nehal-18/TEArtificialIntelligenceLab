{
 "cells": [
  {
   "cell_type": "code",
   "execution_count": 1,
   "id": "ae6bd2f9-b244-4549-831d-71da06d87b04",
   "metadata": {},
   "outputs": [],
   "source": [
    "def printSolution(board):\n",
    "    for i in range(N):\n",
    "        for j in range(N):\n",
    "            print(board[i][j], end = \" \")\n",
    "        print()"
   ]
  },
  {
   "cell_type": "code",
   "execution_count": 2,
   "id": "1825b7fb-783b-4da3-b7d0-2d950131e498",
   "metadata": {},
   "outputs": [],
   "source": [
    "def isSafe(row, col, slashCode, backslashCode,rowLookup, slashCodeLookup,backslashCodeLookup):\n",
    "    if (slashCodeLookup[slashCode[row][col]] or backslashCodeLookup[backslashCode[row][col]] or rowLookup[row]):\n",
    "        return False\n",
    "    return True"
   ]
  },
  {
   "cell_type": "code",
   "execution_count": 3,
   "id": "0df20442-707e-44fa-ad27-9ce6a856cdeb",
   "metadata": {},
   "outputs": [],
   "source": [
    "def solveNQueensUtil(board, col, slashCode, backslashCode,rowLookup, slashCodeLookup,backslashCodeLookup):\n",
    "    if(col >= N):\n",
    "        return True\n",
    "    for i in range(N):\n",
    "        if(isSafe(i, col, slashCode, backslashCode,rowLookup, slashCodeLookup,backslashCodeLookup)):\n",
    "\n",
    "            board[i][col] = 1\n",
    "            rowLookup[i] = True\n",
    "            slashCodeLookup[slashCode[i][col]] = True\n",
    "            backslashCodeLookup[backslashCode[i][col]] = True\n",
    "\n",
    "            if(solveNQueensUtil(board, col + 1,slashCode, backslashCode,rowLookup, slashCodeLookup,backslashCodeLookup)):\n",
    "                return True\n",
    "\n",
    "            board[i][col] = 0\n",
    "            rowLookup[i] = False\n",
    "            slashCodeLookup[slashCode[i][col]] = False\n",
    "            backslashCodeLookup[backslashCode[i][col]] = False\n",
    "    return False"
   ]
  },
  {
   "cell_type": "code",
   "execution_count": 9,
   "id": "00ff7b7d-1c90-4251-addb-1e25660ca0e4",
   "metadata": {},
   "outputs": [],
   "source": [
    "def solveNQueens():\n",
    "    \n",
    "    board = [[0 for i in range(N)]for j in range(N)]\n",
    "\n",
    "    slashCode = [[0 for i in range(N)]for j in range(N)]\n",
    "    backslashCode = [[0 for i in range(N)]for j in range(N)]\n",
    "\n",
    "    rowLookup = [False] * N\n",
    "\n",
    "    x = 2 * N - 1\n",
    "    slashCodeLookup = [False] * x\n",
    "    backslashCodeLookup = [False] * x\n",
    "\n",
    "    for rr in range(N):\n",
    "        for cc in range(N):\n",
    "            slashCode[rr][cc] = rr + cc\n",
    "            backslashCode[rr][cc] = rr - cc + (N-1)\n",
    "\n",
    "    if(solveNQueensUtil(board, 0, slashCode, backslashCode,rowLookup, slashCodeLookup,backslashCodeLookup) == False):\n",
    "        print(\"Solution does not exist\")\n",
    "        return False\n",
    "\n",
    "\n",
    "    printSolution(board)\n",
    "    return True"
   ]
  },
  {
   "cell_type": "code",
   "execution_count": null,
   "id": "450b0fcf-b183-4a33-b818-881358e66641",
   "metadata": {},
   "outputs": [],
   "source": [
    "N = int(input(\"Enter Size of N:\"))\n",
    "solveNQueens()"
   ]
  },
  {
   "cell_type": "code",
   "execution_count": null,
   "id": "3ab573e1-220b-4de7-ad2f-3088da854dee",
   "metadata": {},
   "outputs": [],
   "source": []
  }
 ],
 "metadata": {
  "kernelspec": {
   "display_name": "Python 3 (ipykernel)",
   "language": "python",
   "name": "python3"
  },
  "language_info": {
   "codemirror_mode": {
    "name": "ipython",
    "version": 3
   },
   "file_extension": ".py",
   "mimetype": "text/x-python",
   "name": "python",
   "nbconvert_exporter": "python",
   "pygments_lexer": "ipython3",
   "version": "3.10.9"
  }
 },
 "nbformat": 4,
 "nbformat_minor": 5
}
